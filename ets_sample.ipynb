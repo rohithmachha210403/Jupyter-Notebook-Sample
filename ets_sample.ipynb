import pandas as pd
import numpy as np
from sklearn.ensemble import RandomForestClassifier
from sklearn.model_selection import train_test_split
from sklearn.metrics import classification_report, confusion_matrix
import matplotlib.pyplot as plt
import seaborn as sns
from mpl_toolkits.mplot3d import Axes3D

# Constants
MAX_THRESHOLD = 220  # Example maximum threshold
MIN_THRESHOLD = 190  # Example minimum threshold
BATTERY_MIN = 11
BATTERY_MAX = 15
TIME_PERIOD = 5  # Example time period T to check for sensor value changes

# Load the dataset
df = pd.read_csv('ets2.csv')

# Define function to determine error code based on conditions
def determine_error_code(df):
    df['error_code'] = 'No Error'
    
    for i in range(1, len(df)):
        # Preconditions: ignition ON and battery voltage within range
        if df.loc[i, 'ignition_on'] == 1 and BATTERY_MIN <= df.loc[i, 'battery_voltage'] <= BATTERY_MAX:
            # Check ETS sensor value against thresholds
            if df.loc[i, 'ets_value'] > MAX_THRESHOLD:
                df.loc[i, 'error_code'] = 'P1238'
            elif df.loc[i, 'ets_value'] < MIN_THRESHOLD:
                df.loc[i, 'error_code'] = 'P1239'
            elif df.loc[i, 'ets_value'] < MIN_THRESHOLD or df.loc[i, 'ets_value'] > MAX_THRESHOLD:
                df.loc[i, 'error_code'] = 'P1237'
            elif i >= TIME_PERIOD and all(df.loc[i - TIME_PERIOD:i, 'ets_value'] == df.loc[i, 'ets_value']):
                df.loc[i, 'error_code'] = 'P1235'
        else:
            df.loc[i, 'error_code'] = 'No Error'  # Out of precondition range
    
    return df

# Apply the function to the dataset to create the target column
df = determine_error_code(df)

# Display the first few rows of the dataset to verify the error codes
print("First few rows of the dataset with error codes:")
print(df.head())

# Prepare the data
X = df[['session_id', 'vin', 'ets_value', 'ignition_on', 'battery_voltage']]
y = df['error_code']

# Encode the target labels
y_encoded = y.astype('category').cat.codes

# Split the data into training and testing sets
X_train, X_test, y_train, y_test = train_test_split(X, y_encoded, test_size=0.3, random_state=42)

# Initialize and train the Random Forest classifier
rf = RandomForestClassifier(n_estimators=100, max_depth=5, random_state=42)
rf.fit(X_train, y_train)

# Make predictions
y_pred = rf.predict(X_test)

# Decode the target labels
y_test_decoded = pd.Categorical.from_codes(y_test, y.astype('category').cat.categories)
y_pred_decoded = pd.Categorical.from_codes(y_pred, y.astype('category').cat.categories)

# Evaluate the model
print("Confusion Matrix:")
conf_matrix = confusion_matrix(y_test_decoded, y_pred_decoded)
print(conf_matrix)

print("\nClassification Report:")
print(classification_report(y_test_decoded, y_pred_decoded))

# Plot the confusion matrix
plt.figure(figsize=(10, 6))
sns.heatmap(conf_matrix, annot=True, fmt='d', cmap='Blues', xticklabels=y_test_decoded.categories, yticklabels=y_test_decoded.categories)
plt.xlabel('Predicted')
plt.ylabel('Actual')
plt.title('Confusion Matrix')
plt.show()

# Display feature importance
feature_importances = pd.Series(rf.feature_importances_, index=X.columns)
feature_importances.sort_values().plot(kind='barh', figsize=(10, 6))
plt.title('Feature Importances')
plt.show()

# Scatter plot of ETS values and battery voltage colored by error codes
plt.figure(figsize=(12, 8))
sns.scatterplot(data=df, x='ets_value', y='battery_voltage', hue='error_code', palette='viridis')
plt.title('Scatter Plot of ETS Values and Battery Voltage by Error Code')
plt.xlabel('ETS Value')
plt.ylabel('Battery Voltage')
plt.show()

# 3D Scatter Plot
fig = plt.figure(figsize=(12, 8))
ax = fig.add_subplot(111, projection='3d')
scatter = ax.scatter(df['ets_value'], df['battery_voltage'], df.index, c=y_encoded, cmap='viridis', label=df['error_code'].unique())
ax.set_xlabel('ETS Value')
ax.set_ylabel('Battery Voltage')
ax.set_zlabel('Index')
plt.title('3D Scatter Plot of ETS Values, Battery Voltage, and Index')
plt.legend(*scatter.legend_elements(), title="Error Code")
plt.show()

# Verify the prediction line by testing on new data
new_data = np.array([
    [70000120240403065204, 12345123451234567, 200, 1, 13],   # Normal operating range
    [70000120240403065204, 12345123451234567, 230, 1, 13],   # ETS value higher than the maximum threshold
    [70000120240403065204, 12345123451234567, 180, 1, 13],   # ETS value lower than the minimum threshold
    [70000120240403065204, 12345123451234567, 200, 1, 16],   # Battery voltage higher than the maximum
    [70000120240403065204, 12345123451234567, 200, 1, 10],   # Battery voltage lower than the minimum
    [70000120240403065204, 12345123451234567, 200, 0, 13],   # Normal ETS value and ignition off
    [70000120240403065204, 12345123451234567, 230, 0, 13],   # Ignition off, ETS value higher than max
    [70000120240403065204, 12345123451234567, 180, 0, 13],   # Ignition off, ETS value lower than min
    [70000120240403065204, 12345123451234567, 200, 1, 11],   # Battery voltage at lower boundary
    [70000120240403065204, 12345123451234567, 200, 1, 15]    # Battery voltage at upper boundary
])

# Make predictions on new data
new_predictions = rf.predict(new_data)

# Decode the new predictions
new_predictions_decoded = pd.Categorical.from_codes(new_predictions, y.astype('category').cat.categories)

print("New Predictions: ", new_predictions_decoded)
